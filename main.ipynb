{
 "cells": [
  {
   "cell_type": "code",
   "execution_count": 1,
   "metadata": {},
   "outputs": [],
   "source": [
    "from utils.dataloader import dtLoader"
   ]
  },
  {
   "cell_type": "code",
   "execution_count": 5,
   "metadata": {},
   "outputs": [],
   "source": [
    "source = \"/Users/pradithaalwis/Projects/University of Peradeniya/Fetal Mov Data/Ward/\"\n",
    "drop_zero_path = \"/Users/pradithaalwis/Projects/University of Peradeniya/Fetal Mov Data//Randomly_Dropped_Windows/\"\n",
    "sensors = ['ax1', 'ay1', 'az1', 'ax2', 'ay2', 'az2', 'ax3', 'ay3', 'az3', 'ax4', 'ay4', 'az4']\n",
    "sample_freq = 32\n",
    "\n",
    "# Stride in seconds\n",
    "stride = 1\n",
    "\n",
    "# Window length in seconds\n",
    "window_length = 8\n",
    "\n",
    "# Safety margin in seconds\n",
    "front_margin = 2\n",
    "rear_margin = 2"
   ]
  },
  {
   "cell_type": "code",
   "execution_count": 6,
   "metadata": {},
   "outputs": [],
   "source": [
    "\"\"\"\n",
    "Splits the signals into windows\n",
    "Args:\n",
    "    SOURCE          : path to the sensor data\n",
    "    SAMPLE_FREQ     : sample frequency of sensors\n",
    "    STRIDE          : stride used for windowing (in seconds)\n",
    "    WINDOW_LENGTH   : length of the required window in seconds\n",
    "    FRONT_MARGIN    : Required offset before a fetal kick (in seconds)\n",
    "    REAR_MARGIN     : Required offset after a fetal kick (in seconds)\n",
    "\"\"\"\n",
    "dataloader = dtLoader(SOURCE=source,\n",
    "                        SAMPLE_FREQ=sample_freq,\n",
    "                        STRIDE=stride,\n",
    "                        WINDOW_LENGTH=window_length,\n",
    "                        FRONT_MARGIN=front_margin,\n",
    "                        REAR_MARGIN=rear_margin,\n",
    "                        SENSORS=sensors)"
   ]
  },
  {
   "cell_type": "code",
   "execution_count": 7,
   "metadata": {},
   "outputs": [
    {
     "name": "stdout",
     "output_type": "stream",
     "text": [
      "--------------------------------------------------------------------------------\n",
      "These are the list of files in the source directory.\n",
      "['W17_R1.csv', 'W09_R1.csv', 'W05_R1.csv', 'W21_R1.csv', 'W05_R2.csv', 'W21_R2.csv', 'W15_R2.csv', 'W19_R1.csv', 'W07_R1.csv', 'W15_R1.csv', 'W23_R1.csv', 'W11_R3.csv', 'W27_R2.csv', 'W11_R2.csv', 'W27_R1.csv', 'W11_R1.csv', 'W03_R1.csv', 'W25_R1.csv', 'W11_R5.csv', 'W29_R1.csv', 'W01_R1.csv', 'W11_R4.csv', 'W13_R1.csv', 'W25_R2.csv', 'W29_R2.csv', 'W29_R3.csv', 'W25_R3.csv', 'W04_R2.csv', 'W20_R1.csv', 'W08_R1.csv', 'W16_R1.csv', 'W04_R1.csv', 'W22_R1.csv', 'W30_R1.csv', 'W06_R1.csv', 'W18_R1.csv', 'W14_R1.csv', 'W22_R2.csv', 'W10_R1.csv', 'W02_R1.csv', 'W26_R1.csv', 'W24_R3.csv', 'W24_R2.csv', 'W12_R1.csv', 'W24_R1.csv', 'W28_R1.csv']\n",
      "--------------------------------------------------------------------------------\n",
      "Length of dataframe :  1286  seconds\n",
      "W17_R1.csv has been processed\n",
      "Length of dataframe :  1263  seconds\n",
      "W09_R1.csv has been processed\n",
      "Length of dataframe :  1241  seconds\n",
      "W05_R1.csv has been processed\n",
      "Length of dataframe :  717  seconds\n",
      "W21_R1.csv has been processed\n",
      "Length of dataframe :  18  seconds\n",
      "W05_R2.csv has been processed\n",
      "Length of dataframe :  244  seconds\n",
      "W21_R2.csv has been processed\n",
      "Length of dataframe :  477  seconds\n",
      "W15_R2.csv has been processed\n",
      "Length of dataframe :  830  seconds\n",
      "W19_R1.csv has been processed\n",
      "Length of dataframe :  905  seconds\n",
      "W07_R1.csv has been processed\n",
      "Length of dataframe :  493  seconds\n",
      "W15_R1.csv has been processed\n",
      "Length of dataframe :  1017  seconds\n",
      "W23_R1.csv has been processed\n",
      "Length of dataframe :  271  seconds\n",
      "W11_R3.csv has been processed\n",
      "Length of dataframe :  8  seconds\n",
      "W27_R2.csv has been processed\n",
      "Length of dataframe :  42  seconds\n",
      "W11_R2.csv has been processed\n",
      "Length of dataframe :  1121  seconds\n",
      "W27_R1.csv has been processed\n",
      "Length of dataframe :  592  seconds\n",
      "W11_R1.csv has been processed\n",
      "Length of dataframe :  1212  seconds\n",
      "W03_R1.csv has been processed\n",
      "Length of dataframe :  685  seconds\n",
      "W25_R1.csv has been processed\n",
      "Length of dataframe :  213  seconds\n",
      "W11_R5.csv has been processed\n",
      "Length of dataframe :  1187  seconds\n",
      "W29_R1.csv has been processed\n",
      "Length of dataframe :  1362  seconds\n",
      "W01_R1.csv has been processed\n",
      "Length of dataframe :  379  seconds\n",
      "W11_R4.csv has been processed\n",
      "Length of dataframe :  1006  seconds\n",
      "W13_R1.csv has been processed\n",
      "Length of dataframe :  310  seconds\n",
      "W25_R2.csv has been processed\n",
      "Length of dataframe :  8  seconds\n",
      "W29_R2.csv has been processed\n",
      "Length of dataframe :  31  seconds\n",
      "W29_R3.csv has been processed\n",
      "Length of dataframe :  8  seconds\n",
      "W25_R3.csv has been processed\n",
      "Length of dataframe :  782  seconds\n",
      "W04_R2.csv has been processed\n",
      "Length of dataframe :  913  seconds\n",
      "W20_R1.csv has been processed\n",
      "Length of dataframe :  916  seconds\n",
      "W08_R1.csv has been processed\n",
      "Length of dataframe :  1201  seconds\n",
      "W16_R1.csv has been processed\n",
      "Length of dataframe :  258  seconds\n",
      "W04_R1.csv has been processed\n",
      "Length of dataframe :  389  seconds\n",
      "W22_R1.csv has been processed\n",
      "Length of dataframe :  544  seconds\n",
      "W30_R1.csv has been processed\n",
      "Length of dataframe :  1238  seconds\n",
      "W06_R1.csv has been processed\n",
      "Length of dataframe :  662  seconds\n",
      "W18_R1.csv has been processed\n",
      "Length of dataframe :  673  seconds\n",
      "W14_R1.csv has been processed\n",
      "Length of dataframe :  606  seconds\n",
      "W22_R2.csv has been processed\n",
      "Length of dataframe :  1292  seconds\n",
      "W10_R1.csv has been processed\n",
      "Length of dataframe :  1265  seconds\n",
      "W02_R1.csv has been processed\n",
      "Length of dataframe :  1213  seconds\n",
      "W26_R1.csv has been processed\n",
      "Length of dataframe :  8  seconds\n",
      "W24_R3.csv has been processed\n",
      "Length of dataframe :  929  seconds\n",
      "W24_R2.csv has been processed\n",
      "Length of dataframe :  1394  seconds\n",
      "W12_R1.csv has been processed\n",
      "Length of dataframe :  189  seconds\n",
      "W24_R1.csv has been processed\n",
      "Length of dataframe :  392  seconds\n",
      "W28_R1.csv has been processed\n",
      "30227 windows have been generated\n",
      "Maximum number of kicks in a window : 6\n",
      "--------------------------------------------------------------------------------\n",
      "0  kick windows :  28266\n",
      "1  kick windows :  1537\n",
      "2  kick windows :  193\n",
      "3  kick windows :  21\n",
      "4  kick windows :  4\n",
      "5  kick windows :  0\n",
      "6  kick windows :  2\n",
      "--------------------------------------------------------------------------------\n",
      "Total number of kicks : 335\n"
     ]
    }
   ],
   "source": [
    "\"\"\"\n",
    "Args:\n",
    "Returns:\n",
    "    self.window_list            : Set of generated windows\n",
    "    self.kick_count_list        : Number of kicks in each window\n",
    "    counts                      : Dictionary containing number of windows                             with the given number of kicks\n",
    "\"\"\"\n",
    "counts = dataloader.split_windows()"
   ]
  },
  {
   "cell_type": "code",
   "execution_count": 8,
   "metadata": {},
   "outputs": [],
   "source": [
    "window_list, num_kick_list = dataloader.drop_zero_kicks(counts[0] - counts[1], drop_zero_path)"
   ]
  },
  {
   "cell_type": "code",
   "execution_count": 9,
   "metadata": {},
   "outputs": [
    {
     "name": "stdout",
     "output_type": "stream",
     "text": [
      "(3640, 12, 256)\n"
     ]
    }
   ],
   "source": [
    "print(window_list.shape)"
   ]
  },
  {
   "cell_type": "code",
   "execution_count": null,
   "metadata": {},
   "outputs": [],
   "source": []
  }
 ],
 "metadata": {
  "kernelspec": {
   "display_name": "fyp",
   "language": "python",
   "name": "python3"
  },
  "language_info": {
   "codemirror_mode": {
    "name": "ipython",
    "version": 3
   },
   "file_extension": ".py",
   "mimetype": "text/x-python",
   "name": "python",
   "nbconvert_exporter": "python",
   "pygments_lexer": "ipython3",
   "version": "3.10.9"
  }
 },
 "nbformat": 4,
 "nbformat_minor": 2
}
